{
 "cells": [
  {
   "cell_type": "markdown",
   "id": "f4a54b34-a3af-4d06-80c6-94b7e6f0370e",
   "metadata": {},
   "source": [
    "Задание 1 и 2 выполнены в одном проекте (в этом)"
    "Задание 1"
    "'''Определите, какому фильму было выставлено больше всего оценок 5.0.\n",
    "В таблице ищем все рейтинги 5.0, потом считаем их. Можно не брать лишние столбцы, т.е выбрать только movieid и rating. Посчитать максимальное количество пятерок и потом найти этот фильм по айди в таблице movies.csv\n",
    "'''"
   ]
  },
  {
   "cell_type": "markdown",
   "id": "3326348c-cfd8-4faa-b60c-b1924a8ab0ee",
   "metadata": {},
   "source": [
    ".\\ratings.csv"
   ]
  },
  {
   "cell_type": "code",
   "execution_count": 2,
   "id": "e69f264c-bbb0-46a4-886a-1ad1695cf5ea",
   "metadata": {},
   "outputs": [],
   "source": [
    "import pandas as pd"
   ]
  },
  {
   "cell_type": "code",
   "execution_count": 3,
   "id": "f46cfbf6-e44e-4f37-adf5-39ee4cd1899a",
   "metadata": {},
   "outputs": [],
   "source": [
    "df = pd.read_csv('ratings.csv') # читаю данные с рейтингами"
   ]
  },
  {
   "cell_type": "code",
   "execution_count": 4,
   "id": "6ac6ce85-f451-408e-8832-e41bffcd4182",
   "metadata": {},
   "outputs": [
    {
     "data": {
      "text/html": [
       "<div>\n",
       "<style scoped>\n",
       "    .dataframe tbody tr th:only-of-type {\n",
       "        vertical-align: middle;\n",
       "    }\n",
       "\n",
       "    .dataframe tbody tr th {\n",
       "        vertical-align: top;\n",
       "    }\n",
       "\n",
       "    .dataframe thead th {\n",
       "        text-align: right;\n",
       "    }\n",
       "</style>\n",
       "<table border=\"1\" class=\"dataframe\">\n",
       "  <thead>\n",
       "    <tr style=\"text-align: right;\">\n",
       "      <th></th>\n",
       "      <th>userId</th>\n",
       "      <th>movieId</th>\n",
       "      <th>rating</th>\n",
       "      <th>timestamp</th>\n",
       "    </tr>\n",
       "  </thead>\n",
       "  <tbody>\n",
       "    <tr>\n",
       "      <th>3</th>\n",
       "      <td>1</td>\n",
       "      <td>47</td>\n",
       "      <td>5.0</td>\n",
       "      <td>964983815</td>\n",
       "    </tr>\n",
       "    <tr>\n",
       "      <th>4</th>\n",
       "      <td>1</td>\n",
       "      <td>50</td>\n",
       "      <td>5.0</td>\n",
       "      <td>964982931</td>\n",
       "    </tr>\n",
       "    <tr>\n",
       "      <th>6</th>\n",
       "      <td>1</td>\n",
       "      <td>101</td>\n",
       "      <td>5.0</td>\n",
       "      <td>964980868</td>\n",
       "    </tr>\n",
       "    <tr>\n",
       "      <th>8</th>\n",
       "      <td>1</td>\n",
       "      <td>151</td>\n",
       "      <td>5.0</td>\n",
       "      <td>964984041</td>\n",
       "    </tr>\n",
       "    <tr>\n",
       "      <th>9</th>\n",
       "      <td>1</td>\n",
       "      <td>157</td>\n",
       "      <td>5.0</td>\n",
       "      <td>964984100</td>\n",
       "    </tr>\n",
       "  </tbody>\n",
       "</table>\n",
       "</div>"
      ],
      "text/plain": [
       "   userId  movieId  rating  timestamp\n",
       "3       1       47     5.0  964983815\n",
       "4       1       50     5.0  964982931\n",
       "6       1      101     5.0  964980868\n",
       "8       1      151     5.0  964984041\n",
       "9       1      157     5.0  964984100"
      ]
     },
     "execution_count": 4,
     "metadata": {},
     "output_type": "execute_result"
    }
   ],
   "source": [
    "data = df.query('rating == 5.0') # беру и смотрю только рейтинги 5.0\n",
    "data.head()"
   ]
  },
  {
   "cell_type": "code",
   "execution_count": 5,
   "id": "cbab8d90-fb1e-4d32-8016-a4058a93fd76",
   "metadata": {},
   "outputs": [
    {
     "data": {
      "text/html": [
       "<div>\n",
       "<style scoped>\n",
       "    .dataframe tbody tr th:only-of-type {\n",
       "        vertical-align: middle;\n",
       "    }\n",
       "\n",
       "    .dataframe tbody tr th {\n",
       "        vertical-align: top;\n",
       "    }\n",
       "\n",
       "    .dataframe thead th {\n",
       "        text-align: right;\n",
       "    }\n",
       "</style>\n",
       "<table border=\"1\" class=\"dataframe\">\n",
       "  <thead>\n",
       "    <tr style=\"text-align: right;\">\n",
       "      <th></th>\n",
       "      <th>rating</th>\n",
       "    </tr>\n",
       "  </thead>\n",
       "  <tbody>\n",
       "    <tr>\n",
       "      <th>3</th>\n",
       "      <td>5.0</td>\n",
       "    </tr>\n",
       "    <tr>\n",
       "      <th>4</th>\n",
       "      <td>5.0</td>\n",
       "    </tr>\n",
       "    <tr>\n",
       "      <th>6</th>\n",
       "      <td>5.0</td>\n",
       "    </tr>\n",
       "    <tr>\n",
       "      <th>8</th>\n",
       "      <td>5.0</td>\n",
       "    </tr>\n",
       "    <tr>\n",
       "      <th>9</th>\n",
       "      <td>5.0</td>\n",
       "    </tr>\n",
       "  </tbody>\n",
       "</table>\n",
       "</div>"
      ],
      "text/plain": [
       "   rating\n",
       "3     5.0\n",
       "4     5.0\n",
       "6     5.0\n",
       "8     5.0\n",
       "9     5.0"
      ]
     },
     "execution_count": 5,
     "metadata": {},
     "output_type": "execute_result"
    }
   ],
   "source": [
    "clean_data = data.filter(items = ['movieid', 'rating']) # читаю только столбцы с идентификаторами фильма и их оценками\n",
    "clean_data.head()"
   ]
  },
  {
   "cell_type": "code",
   "execution_count": 6,
   "id": "1923263e-23f3-4e48-bb45-ced1dcde8534",
   "metadata": {},
   "outputs": [
    {
     "name": "stdout",
     "output_type": "stream",
     "text": [
      "movieId\n",
      "318     153\n",
      "296     123\n",
      "356     116\n",
      "2571    109\n",
      "260     104\n",
      "       ... \n",
      "5139      1\n",
      "4794      1\n",
      "407       1\n",
      "8810      1\n",
      "2881      1\n",
      "Name: count, Length: 2954, dtype: int64\n"
     ]
    }
   ],
   "source": [
    "counts = data['movieId'].value_counts() # считаю, какой идентификатор фильма встречается чаще всего\n",
    "print(counts)"
   ]
  },
  {
   "cell_type": "code",
   "execution_count": 7,
   "id": "db4a7dbe-f307-41c9-b377-140631ee5901",
   "metadata": {},
   "outputs": [
    {
     "name": "stdout",
     "output_type": "stream",
     "text": [
      "318\n"
     ]
    }
   ],
   "source": [
    "movieId = counts.index[0] # завожу переменную под идентификатор самого лучшего фильма\n",
    "print(movieId)"
   ]
  },
  {
   "cell_type": "code",
   "execution_count": 8,
   "id": "ebf2785d-4559-4f86-b49f-81b412d54b8a",
   "metadata": {},
   "outputs": [
    {
     "data": {
      "text/html": [
       "<div>\n",
       "<style scoped>\n",
       "    .dataframe tbody tr th:only-of-type {\n",
       "        vertical-align: middle;\n",
       "    }\n",
       "\n",
       "    .dataframe tbody tr th {\n",
       "        vertical-align: top;\n",
       "    }\n",
       "\n",
       "    .dataframe thead th {\n",
       "        text-align: right;\n",
       "    }\n",
       "</style>\n",
       "<table border=\"1\" class=\"dataframe\">\n",
       "  <thead>\n",
       "    <tr style=\"text-align: right;\">\n",
       "      <th></th>\n",
       "      <th>movieId</th>\n",
       "      <th>title</th>\n",
       "      <th>genres</th>\n",
       "    </tr>\n",
       "  </thead>\n",
       "  <tbody>\n",
       "    <tr>\n",
       "      <th>0</th>\n",
       "      <td>1</td>\n",
       "      <td>Toy Story (1995)</td>\n",
       "      <td>Adventure|Animation|Children|Comedy|Fantasy</td>\n",
       "    </tr>\n",
       "    <tr>\n",
       "      <th>1</th>\n",
       "      <td>2</td>\n",
       "      <td>Jumanji (1995)</td>\n",
       "      <td>Adventure|Children|Fantasy</td>\n",
       "    </tr>\n",
       "    <tr>\n",
       "      <th>2</th>\n",
       "      <td>3</td>\n",
       "      <td>Grumpier Old Men (1995)</td>\n",
       "      <td>Comedy|Romance</td>\n",
       "    </tr>\n",
       "    <tr>\n",
       "      <th>3</th>\n",
       "      <td>4</td>\n",
       "      <td>Waiting to Exhale (1995)</td>\n",
       "      <td>Comedy|Drama|Romance</td>\n",
       "    </tr>\n",
       "    <tr>\n",
       "      <th>4</th>\n",
       "      <td>5</td>\n",
       "      <td>Father of the Bride Part II (1995)</td>\n",
       "      <td>Comedy</td>\n",
       "    </tr>\n",
       "  </tbody>\n",
       "</table>\n",
       "</div>"
      ],
      "text/plain": [
       "   movieId                               title  \\\n",
       "0        1                    Toy Story (1995)   \n",
       "1        2                      Jumanji (1995)   \n",
       "2        3             Grumpier Old Men (1995)   \n",
       "3        4            Waiting to Exhale (1995)   \n",
       "4        5  Father of the Bride Part II (1995)   \n",
       "\n",
       "                                        genres  \n",
       "0  Adventure|Animation|Children|Comedy|Fantasy  \n",
       "1                   Adventure|Children|Fantasy  \n",
       "2                               Comedy|Romance  \n",
       "3                         Comedy|Drama|Romance  \n",
       "4                                       Comedy  "
      ]
     },
     "execution_count": 8,
     "metadata": {},
     "output_type": "execute_result"
    }
   ],
   "source": [
    "df_movies = pd.read_csv('movies.csv') # читаю данные с информацией о фильмах\n",
    "df_movies.head()\n",
    "#best_movie_ever = df.filter(items = ['movieId']) # выбираю колонку только с идентификатором фильма (зачем?)\n",
    "#print(best_movie_ever)"
   ]
  },
  {
   "cell_type": "code",
   "execution_count": 9,
   "id": "811557b1-d9af-4d9b-8803-e01242f83f45",
   "metadata": {},
   "outputs": [
    {
     "name": "stdout",
     "output_type": "stream",
     "text": [
      "Shawshank Redemption, The (1994)\n"
     ]
    }
   ],
   "source": [
    "best_movie = df_movies.loc[df_movies['movieId'] == movieId, 'title'] # в переменную записываю единственную запись, где айди совпадает с заданным\n",
    "best_movie = best_movie.iloc[0] # в переменную записываю единственное значение из названия\n",
    "print(best_movie)"
   ]
  },
  {
   "cell_type": "code",
   "execution_count": 10,
   "id": "e2815b91-31b9-4f5a-b55a-69ecb43f859d",
   "metadata": {},
   "outputs": [
    {
     "name": "stdout",
     "output_type": "stream",
     "text": [
      "Shawshank Redemption, The (1994)\n"
     ]
    }
   ],
   "source": [
    "import pandas as pd\n",
    "df = pd.read_csv('ratings.csv')\n",
    "data = df.query('rating == 5.0')\n",
    "clean_data = data.filter(items = ['movieid', 'rating'])\n",
    "counts = data['movieId'].value_counts()\n",
    "movieId = counts.index[0]\n",
    "df_movies = pd.read_csv('movies.csv')\n",
    "best_movie = df_movies.loc[df_movies['movieId'] == movieId, 'title']\n",
    "best_movie = best_movie.iloc[0]\n",
    "print(best_movie)"
   ]
  },
  {
   "cell_type": "markdown",
   "id": "227e4595",
   "metadata": {},
   "source": [
    "ДЗ 10. Задание 2\n",
    "По данным файла power.csv (находится в “Материалы к домашнему заданию”) посчитайте суммарное потребление стран Прибалтики (Латвия, Литва и Эстония) категорий 4, 12 и 21 за период с 2005 по 2010 год. Не учитывайте в расчётах отрицательные значения quantity."
   ]
  },
  {
   "cell_type": "markdown",
   "id": "f1851ad6",
   "metadata": {},
   "source": [
    "Отфильтровать можно сразу таблицу по странам, категориям, годам. Затем смотреть как быть с отрицательным количеством - видимо, понадобится какое-то условие"
   ]
  },
  {
   "cell_type": "code",
   "execution_count": 11,
   "id": "12b12948",
   "metadata": {},
   "outputs": [
    {
     "name": "stdout",
     "output_type": "stream",
     "text": [
      "240580.0\n"
     ]
    }
   ],
   "source": [
    "import pandas as pd\n",
    "df = pd.read_csv('power.csv')\n",
    "Baltic = df[(df['country'].isin(['Latvia', 'Lithuania', 'Estonia'])) & (df['category'].isin([4, 12, 21])) & (df['year'] >= 2005) & (df['year'] <= 2010) & (df['quantity'] > 0)]\n",
    "total_quantity = Baltic['quantity'].sum()\n",
    "print(total_quantity)"
   ]
  }
 ],
 "metadata": {
  "kernelspec": {
   "display_name": "Python 3",
   "language": "python",
   "name": "python3"
  },
  "language_info": {
   "codemirror_mode": {
    "name": "ipython",
    "version": 3
   },
   "file_extension": ".py",
   "mimetype": "text/x-python",
   "name": "python",
   "nbconvert_exporter": "python",
   "pygments_lexer": "ipython3",
   "version": "3.11.9"
  }
 },
 "nbformat": 4,
 "nbformat_minor": 5
}
